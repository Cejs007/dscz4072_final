{
  "nbformat": 4,
  "nbformat_minor": 0,
  "metadata": {
    "colab": {
      "provenance": [],
      "toc_visible": true
    },
    "kernelspec": {
      "name": "python3",
      "display_name": "Python 3"
    },
    "language_info": {
      "name": "python"
    }
  },
  "cells": [
    {
      "cell_type": "code",
      "execution_count": null,
      "metadata": {
        "id": "qOqXyrfokKsn"
      },
      "outputs": [],
      "source": [
        "datasety = {\n",
        "    \"fake_news\": \"https://www.kaggle.com/datasets/aadyasingh55/fake-news-classification?select=train+%282%29.csv\",\n",
        "    \"melanomia\": \"https://www.kaggle.com/datasets/hasnainjaved/melanoma-skin-cancer-dataset-of-10000-images\",\n",
        "    \"e-commerce\": \"https://www.kaggle.com/datasets/saurabhshahane/ecommerce-text-classification\",\n",
        "    \"emotions\": \"https://www.kaggle.com/datasets/nelgiriyewithana/emotions\",\n",
        "    \"butterflies\": \"https://www.kaggle.com/datasets/phucthaiv02/butterfly-image-classification/data\",\n",
        "    \"Food\": \"https://www.kaggle.com/datasets/harishkumardatalab/food-image-classification-dataset/data\",\n",
        "    \"Brain Tumor\": \"https://www.kaggle.com/datasets/denizkavi1/brain-tumor\",\n",
        "    \"Vehicle Detection\": \"https://www.kaggle.com/datasets/brsdincer/vehicle-detection-image-set\",\n",
        "    \"World Coins\": \"https://www.kaggle.com/datasets/wanderdust/coin-images/data\",\n",
        "    \"EuroSat Dataset\": \"https://www.kaggle.com/datasets/apollo2506/eurosat-dataset/data\",\n",
        "    \"Fruits and Vegetables Image Recognition Dataset\": \"https://www.kaggle.com/datasets/kritikseth/fruit-and-vegetable-image-recognition\",\n",
        "    \"FER-2013\": \"https://www.kaggle.com/datasets/kritikseth/fruit-and-vegetable-image-recognition\"\n",
        "}"
      ]
    },
    {
      "cell_type": "code",
      "source": [
        "tymy = {\n",
        "    \"fake_news\": {\"studenti\": [\"Jana Suchomelová\", \"Roman Valouch\", \"Petra Šebková\"], \"repo\": r\"\"},\n",
        "    \"FER-2013\": {\"studenti\": [\"Sergiu Tuluc\", \"Petr Ostárek\", \"Jan Bednařík\"], \"repo\": r\"\"},\n",
        "    \"Fruits and Vegetables\": {\"studenti\": [\"Quan Nguyen\", \"Šimon Šťastný\"], \"repo\": r\"\"},\n",
        "    \"EuroSat Dataset\": {\"studenti\": [\"Martina Westrik\", \"Anika Chalupská\"], \"repo\": r\"\"},\n",
        "    \"Brain Tumor\": {\"studenti\": [\"Kamila Houdek\", \"Richard Pařík\", \"Roman Banas\"], \"repo\": r\"\"},\n",
        "    \"Food\": {\"studenti\": [\"Ivana Kleinedlerová\", \"Alla Vijecka\", \"Lukáš Gaľa\"], \"repo\": r\"\"},\n",
        "    \"butterflies\": {\"studenti\": [\"David Fischer\", \"Martin Vojtíšek\"], \"repo\": r\"\"},\n",
        "    \"P3\": {\"studenti\": [\"Tereza Skružná\"], \"repo\": r\"\"}\n",
        "}"
      ],
      "metadata": {
        "id": "Jpt4CO6CohAn"
      },
      "execution_count": null,
      "outputs": []
    },
    {
      "cell_type": "code",
      "source": [
        "import kagglehub\n",
        "import os\n",
        "\n",
        "from PIL import Image\n",
        "import pandas as pd\n",
        "\n",
        "# Download latest version\n",
        "path = kagglehub.dataset_download(\"phucthaiv02/butterfly-image-classification\")\n",
        "print(\"Path to dataset files:\", path)\n",
        "\n",
        "os.listdir(path)\n",
        "\n",
        "labely = pd.read_csv(f\"{path}/Training_set.csv\")\n",
        "labely\n",
        "\n",
        "skupiny = labely.groupby(\"label\").groups\n",
        "skupiny\n",
        "\n",
        "X = []\n",
        "y = []\n",
        "\n",
        "for druh in skupiny.keys():\n",
        "  nazvy_souboru = labely.loc[skupiny[druh], \"filename\"].values\n",
        "  for soubor in nazvy_souboru:\n",
        "    X.append(Image.open(f\"{path}/train/{soubor}\"))\n",
        "    y.append(druh)"
      ],
      "metadata": {
        "id": "6JCu2ahokl8W"
      },
      "execution_count": 37,
      "outputs": []
    }
  ]
}